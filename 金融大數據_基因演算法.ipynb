{
  "nbformat": 4,
  "nbformat_minor": 0,
  "metadata": {
    "colab": {
      "provenance": [],
      "authorship_tag": "ABX9TyNUu0T3eFWtVN6dE7Sk76Ml",
      "include_colab_link": true
    },
    "kernelspec": {
      "name": "python3",
      "display_name": "Python 3"
    },
    "language_info": {
      "name": "python"
    }
  },
  "cells": [
    {
      "cell_type": "markdown",
      "metadata": {
        "id": "view-in-github",
        "colab_type": "text"
      },
      "source": [
        "<a href=\"https://colab.research.google.com/github/tina287/fianceHomework/blob/main/%E9%87%91%E8%9E%8D%E5%A4%A7%E6%95%B8%E6%93%9A_%E5%9F%BA%E5%9B%A0%E6%BC%94%E7%AE%97%E6%B3%95.ipynb\" target=\"_parent\"><img src=\"https://colab.research.google.com/assets/colab-badge.svg\" alt=\"Open In Colab\"/></a>"
      ]
    },
    {
      "cell_type": "code",
      "source": [
        "# 簡化版基因演算法：最佳化投資組合\n",
        "\n",
        "# 匯入必要的套件\n",
        "import yfinance as yf\n",
        "import numpy as np\n",
        "import random\n",
        "\n",
        "# 固定隨機種子\n",
        "np.random.seed(42)\n",
        "random.seed(42)\n",
        "\n",
        "# 年化報酬與風險計算\n",
        "def calculate_annual_metrics(data):\n",
        "    years = (data.index[-1] - data.index[0]).days / 365.0\n",
        "    start, end = data.iloc[0], data.iloc[-1]\n",
        "    annual_return = (end / start) ** (1 / years) - 1\n",
        "    daily_returns = data.pct_change().dropna()\n",
        "    annual_risk = daily_returns.std() * np.sqrt(len(daily_returns))\n",
        "    return annual_return, annual_risk\n",
        "\n",
        "# 取得股票資料\n",
        "def fetch_stock_data(symbols, start_date, end_date):\n",
        "    returns, risks = [], []\n",
        "    for symbol in symbols:\n",
        "        data = yf.download(f\"{symbol}.TW\", start=start_date, end=end_date)[\"Adj Close\"]\n",
        "        ret, risk = calculate_annual_metrics(data)\n",
        "        returns.append(ret)\n",
        "        risks.append(risk)\n",
        "    return np.array(returns), np.array(risks)\n",
        "\n",
        "# 適應函數\n",
        "def fitness(chromosome, stock_returns, stock_risks):\n",
        "    portfolio_return = np.sum(chromosome * stock_returns)\n",
        "    portfolio_risk = np.sqrt(np.sum((chromosome * stock_risks) ** 2))\n",
        "    sharpe_ratio = portfolio_return / portfolio_risk if portfolio_risk > 0 else 0\n",
        "    return 0.8 * sharpe_ratio - 0.006 * np.sum(chromosome)\n",
        "\n",
        "# 初始化、選擇、交配、突變\n",
        "def initialize_population(size, num_stocks):\n",
        "    return [np.random.randint(0, 2, num_stocks) for _ in range(size)]\n",
        "\n",
        "def select(population, fitness_scores):\n",
        "    probs = (np.array(fitness_scores) - min(fitness_scores) + 1e-6)\n",
        "    probs /= probs.sum()\n",
        "    return population[np.random.choice(len(population), p=probs)]\n",
        "\n",
        "def crossover(parent1, parent2):\n",
        "    point = np.random.randint(1, len(parent1))\n",
        "    return np.concatenate((parent1[:point], parent2[point:])), np.concatenate((parent2[:point], parent1[point:]))\n",
        "\n",
        "def mutate(chromosome, rate):\n",
        "    for i in range(len(chromosome)):\n",
        "        if random.random() < rate:\n",
        "            chromosome[i] = 1 - chromosome[i]\n",
        "    return chromosome\n",
        "\n",
        "# GA 主程式\n",
        "def genetic_algorithm(stock_returns, stock_risks, num_stocks, population_size=20, generations=200, mutation_rate=0.2):\n",
        "    population = initialize_population(population_size, num_stocks)\n",
        "    for _ in range(generations):\n",
        "        fitness_scores = [fitness(chromo, stock_returns, stock_risks) for chromo in population]\n",
        "        new_population = []\n",
        "        for _ in range(population_size // 2):\n",
        "            parent1, parent2 = select(population, fitness_scores), select(population, fitness_scores)\n",
        "            child1, child2 = crossover(parent1, parent2)\n",
        "            new_population.extend([mutate(child1, mutation_rate), mutate(child2, mutation_rate)])\n",
        "        population = new_population\n",
        "    best_index = np.argmax([fitness(chromo, stock_returns, stock_risks) for chromo in population])\n",
        "    return population[best_index]\n",
        "\n",
        "# 設定參數\n",
        "start_date, end_date = \"2020-01-01\", \"2023-01-01\"\n",
        "stock_symbols = [\"2330\", \"1201\", \"2454\", \"2357\", \"4426\", \"8271\"]\n",
        "stock_returns, stock_risks = fetch_stock_data(stock_symbols, start_date, end_date)\n",
        "\n",
        "# 執行演算法\n",
        "best_portfolio = genetic_algorithm(stock_returns, stock_risks, len(stock_symbols))\n",
        "\n",
        "# 輸出結果\n",
        "print(\"最佳選股組合:\", best_portfolio)\n",
        "print(\"總報酬:\", np.sum(best_portfolio * stock_returns))\n",
        "print(\"總風險:\", np.sqrt(np.sum((best_portfolio * stock_risks) ** 2)))\n",
        "for i, symbol in enumerate(stock_symbols):\n",
        "    print(f\"{symbol}: {'選擇' if best_portfolio[i] else '不選擇'}\")\n"
      ],
      "metadata": {
        "colab": {
          "base_uri": "https://localhost:8080/"
        },
        "id": "ip4hvCfQ59It",
        "outputId": "124a406f-ca22-431d-ce28-7b5907f62700"
      },
      "execution_count": 36,
      "outputs": [
        {
          "output_type": "stream",
          "name": "stderr",
          "text": [
            "[*********************100%***********************]  1 of 1 completed\n",
            "[*********************100%***********************]  1 of 1 completed\n",
            "[*********************100%***********************]  1 of 1 completed\n",
            "[*********************100%***********************]  1 of 1 completed\n",
            "[*********************100%***********************]  1 of 1 completed\n",
            "[*********************100%***********************]  1 of 1 completed\n"
          ]
        },
        {
          "output_type": "stream",
          "name": "stdout",
          "text": [
            "最佳選股組合: [1 0 1 1 1 1]\n",
            "總報酬: 1.4712498920044437\n",
            "總風險: 3.1434678812664174\n",
            "2330: 選擇\n",
            "1201: 不選擇\n",
            "2454: 選擇\n",
            "2357: 選擇\n",
            "4426: 選擇\n",
            "8271: 選擇\n"
          ]
        }
      ]
    }
  ]
}